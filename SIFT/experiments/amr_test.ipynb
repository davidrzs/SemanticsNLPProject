{
 "cells": [
  {
   "cell_type": "code",
   "execution_count": null,
   "outputs": [],
   "source": [],
   "metadata": {
    "collapsed": false,
    "pycharm": {
     "name": "#%%\n"
    }
   }
  },
  {
   "cell_type": "code",
   "execution_count": null,
   "outputs": [],
   "source": [
    "import penman\n",
    "\n",
    "\n",
    "penman_string, alignment = \"# ::snt Bill whistled past the house.\\n# ::tokens [\\\"Bill\\\", \\\"whistled\\\", \\\"past\\\", \\\"the\\\", \\\"house\\\", \\\".\\\"]\\n# ::lemmas [\\\"Bill\\\", \\\"whistle\\\", \\\"past\\\", \\\"the\\\", \\\"house\\\", \\\".\\\"]\\n# ::alignments 0-1.1.1.1 1-1 2-1.2 4-1.2.1\\n(w / whistle-01~e.1\\n   :ARG0 (p / person\\n            :name (n / name\\n                     :op1 \\\"Bill\\\"~e.0))\\n   :path (p2 / past~e.2\\n             :op1 (h / house~e.4)))\", [[0, 4], [5, 13], [14, 18], [19, 22]]\n",
    "\n",
    "\n",
    "print(penman_string)\n",
    "\n",
    "a = penman.decode(penman_string)\n",
    "\n",
    "print(a.metadata,'\\n\\n')\n",
    "\n",
    "print(a.triples, '\\n\\n')\n",
    "\n",
    "print(a.edges(), '\\n\\n')\n",
    "\n",
    "print(a.attributes(), '\\n\\n')\n",
    "\n",
    "\n"
   ],
   "metadata": {
    "collapsed": false,
    "pycharm": {
     "name": "#%%\n"
    }
   }
  },
  {
   "cell_type": "code",
   "execution_count": null,
   "outputs": [],
   "source": [
    "import dgl\n",
    "import torch"
   ],
   "metadata": {
    "collapsed": false,
    "pycharm": {
     "name": "#%%\n"
    }
   }
  },
  {
   "cell_type": "code",
   "execution_count": null,
   "outputs": [],
   "source": [
    "nodes = set()\n",
    "edge_types = set()\n",
    "\n",
    "\n",
    "for edge in a.edges():\n",
    "    source, role, target = edge.source, edge.role, edge.target\n",
    "    nodes.add(source)\n",
    "    nodes.add(target)\n",
    "    # v stands for vertex - not sure if we need multiple vertices in the future.\n",
    "    edge_types.add(('v',role,'v'))\n",
    "\n",
    "for attribute in a.attributes():\n",
    "    source, role, target = attribute.source, attribute.role, attribute.target\n",
    "    nodes.add(source)\n",
    "    nodes.add(target)\n",
    "    edge_types.add(('v',role,'v'))\n",
    "\n",
    "print(nodes)\n",
    "print(edge_types)\n",
    "\n",
    "\n",
    "print('-------')\n",
    "print(a.edges())\n",
    "print('-------')\n",
    "print(a.attributes())\n",
    "print('-------')\n"
   ],
   "metadata": {
    "collapsed": false,
    "pycharm": {
     "name": "#%%\n"
    }
   }
  },
  {
   "cell_type": "code",
   "execution_count": null,
   "outputs": [],
   "source": [
    "edge_collection = {}\n",
    "\n",
    "from penman import surface\n",
    "\n",
    "for edge_type in edge_types:\n",
    "    # v1, t, v2  = edge_type\n",
    "    edge_collection[edge_type] = []\n",
    "\n",
    "print(nodes)\n",
    "\n",
    "print('--------------------------')\n",
    "\n",
    "alignments = {}\n",
    "\n",
    "node_to_index = dict(list(map(lambda j : (j[1],j[0]), enumerate(list(nodes)))))\n",
    "\n",
    "for key, value in surface.alignments(a).items():\n",
    "    node = key[0]\n",
    "    node_id = node_to_index[node]\n",
    "    alignments[node_id] = value.indices\n",
    "\n",
    "print(node_to_index)\n",
    "print(alignments)\n",
    "\n",
    "print('--------------------------')\n",
    "\n",
    "\n",
    "\n",
    "\n",
    "\n",
    "for edge in a.edges():\n",
    "    source, role, target = edge.source, edge.role, edge.target\n",
    "    edge_collection[('v',role,'v')].append((node_to_index[source], node_to_index[target]))\n",
    "\n",
    "for attribute in a.attributes():\n",
    "    source, role, target = attribute.source, attribute.role, attribute.target\n",
    "    edge_collection[('v',role,'v')].append((node_to_index[source], node_to_index[target]))\n",
    "\n",
    "dgl_graph = {}\n",
    "\n",
    "for edge_type in edge_collection:\n",
    "    u, v = list(zip(*edge_collection[edge_type]))\n",
    "    u, v = list(u), list(v)\n",
    "    dgl_graph[edge_type] = torch.tensor(u), torch.tensor(v)\n",
    "\n",
    "\n",
    "print('\\n\\n', dgl_graph, '\\n\\n')\n",
    "\n",
    "g = dgl.heterograph(dgl_graph)\n",
    "\n",
    "import pickle\n"
   ],
   "metadata": {
    "collapsed": false,
    "pycharm": {
     "name": "#%%\n"
    }
   }
  },
  {
   "cell_type": "code",
   "execution_count": 41,
   "id": "1092b7f7",
   "metadata": {
    "pycharm": {
     "name": "#%%\n"
    }
   },
   "outputs": [],
   "source": []
  },
  {
   "cell_type": "code",
   "execution_count": null,
   "id": "77e38ff0",
   "metadata": {
    "pycharm": {
     "name": "#%%\n"
    }
   },
   "outputs": [],
   "source": [
    "\n",
    "i = 100\n",
    "\n",
    "graphs = stog.parse_sents([dataset['train'][i]['premise'], dataset['train'][i]['hypothesis']])\n",
    "\n",
    "for graph in graphs:\n",
    "    print(graph)"
   ]
  },
  {
   "cell_type": "code",
   "execution_count": null,
   "id": "935ccd2c",
   "metadata": {
    "pycharm": {
     "name": "#%%\n"
    }
   },
   "outputs": [],
   "source": [
    "from datasets import load_dataset\n",
    "\n",
    "dataset = load_dataset(\"hans\")"
   ]
  },
  {
   "cell_type": "code",
   "execution_count": 9,
   "id": "29456477",
   "metadata": {
    "pycharm": {
     "name": "#%%\n"
    }
   },
   "outputs": [
    {
     "name": "stderr",
     "output_type": "stream",
     "text": [
      "Reusing dataset hans (/home/david/.cache/huggingface/datasets/hans/plain_text/1.0.0/452e93cf5383f5ae39088254215b517d0da98ccaaf0af8f7ab04d8f23f67dbd9)\n"
     ]
    },
    {
     "data": {
      "application/vnd.jupyter.widget-view+json": {
       "model_id": "88c1b1ee328b4d08a60e08877c67ac4a",
       "version_major": 2,
       "version_minor": 0
      },
      "text/plain": [
       "  0%|          | 0/2 [00:00<?, ?it/s]"
      ]
     },
     "metadata": {},
     "output_type": "display_data"
    }
   ],
   "source": [
    "from datasets import load_dataset\n",
    "\n",
    "dataset = load_dataset(\"hans\")"
   ]
  },
  {
   "cell_type": "code",
   "execution_count": null,
   "id": "550c4907",
   "metadata": {
    "pycharm": {
     "name": "#%%\n"
    }
   },
   "outputs": [],
   "source": []
  }
 ],
 "metadata": {
  "kernelspec": {
   "display_name": "Python 3 (ipykernel)",
   "language": "python",
   "name": "python3"
  },
  "language_info": {
   "codemirror_mode": {
    "name": "ipython",
    "version": 3
   },
   "file_extension": ".py",
   "mimetype": "text/x-python",
   "name": "python",
   "nbconvert_exporter": "python",
   "pygments_lexer": "ipython3",
   "version": "3.9.13"
  }
 },
 "nbformat": 4,
 "nbformat_minor": 5
}