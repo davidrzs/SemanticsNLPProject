{
 "cells": [
  {
   "cell_type": "code",
   "execution_count": 1,
   "id": "f17384bb",
   "metadata": {
    "pycharm": {
     "name": "#%%\n"
    }
   },
   "outputs": [
    {
     "name": "stdout",
     "output_type": "stream",
     "text": [
      "# ::snt This is a test of the system.\n",
      "(t / test-01\n",
      "      :ARG1 (s / system)\n",
      "      :domain (t2 / this))\n",
      "<class 'str'>\n",
      "\n",
      "\n",
      "\n",
      "# ::snt This is a second sentence.\n",
      "(s / sentence\n",
      "      :ord (o / ordinal-entity\n",
      "            :value 2)\n",
      "      :domain (t / this))\n",
      "<class 'str'>\n",
      "\n",
      "\n",
      "\n"
     ]
    }
   ],
   "source": [
    "import amrlib\n",
    "stog = amrlib.load_stog_model('/home/david/tmp/model_parse_xfm_bart_base-v0_1_0')\n",
    "graphs = stog.parse_sents(['This is a test of the system.', 'This is a second sentence.'])\n",
    "for graph in graphs:\n",
    "    print(graph)\n",
    "    print(type(graph))\n",
    "    print('\\n\\n')\n"
   ]
  },
  {
   "cell_type": "code",
   "execution_count": 2,
   "outputs": [
    {
     "data": {
      "text/plain": "<Graph object (top=t) at 139700194461248>"
     },
     "execution_count": 2,
     "metadata": {},
     "output_type": "execute_result"
    }
   ],
   "source": [
    "import penman\n",
    "\n",
    "penman.decode(graphs[0])"
   ],
   "metadata": {
    "collapsed": false,
    "pycharm": {
     "name": "#%%\n"
    }
   }
  },
  {
   "cell_type": "code",
   "execution_count": 3,
   "id": "b00cc792",
   "metadata": {
    "pycharm": {
     "name": "#%%\n"
    }
   },
   "outputs": [
    {
     "data": {
      "text/plain": "Downloading builder script:   0%|          | 0.00/1.97k [00:00<?, ?B/s]",
      "application/vnd.jupyter.widget-view+json": {
       "version_major": 2,
       "version_minor": 0,
       "model_id": "6f8c5fff1fdd4d009176f94bcfc16f0e"
      }
     },
     "metadata": {},
     "output_type": "display_data"
    },
    {
     "data": {
      "text/plain": "Downloading metadata:   0%|          | 0.00/1.07k [00:00<?, ?B/s]",
      "application/vnd.jupyter.widget-view+json": {
       "version_major": 2,
       "version_minor": 0,
       "model_id": "ad64ba8b9e0448389533c30f1a222221"
      }
     },
     "metadata": {},
     "output_type": "display_data"
    },
    {
     "name": "stdout",
     "output_type": "stream",
     "text": [
      "Downloading and preparing dataset hans/plain_text (download: 29.51 MiB, generated: 30.34 MiB, post-processed: Unknown size, total: 59.85 MiB) to /home/david/.cache/huggingface/datasets/hans/plain_text/1.0.0/452e93cf5383f5ae39088254215b517d0da98ccaaf0af8f7ab04d8f23f67dbd9...\n"
     ]
    },
    {
     "data": {
      "text/plain": "Downloading data:   0%|          | 0.00/1.47M [00:00<?, ?B/s]",
      "application/vnd.jupyter.widget-view+json": {
       "version_major": 2,
       "version_minor": 0,
       "model_id": "3a1faecb54d44efdadb194eeb0e199a3"
      }
     },
     "metadata": {},
     "output_type": "display_data"
    },
    {
     "data": {
      "text/plain": "Downloading data:   0%|          | 0.00/1.47M [00:00<?, ?B/s]",
      "application/vnd.jupyter.widget-view+json": {
       "version_major": 2,
       "version_minor": 0,
       "model_id": "c802953c16434fe59b742393b0b141a5"
      }
     },
     "metadata": {},
     "output_type": "display_data"
    },
    {
     "data": {
      "text/plain": "Generating train split:   0%|          | 0/30000 [00:00<?, ? examples/s]",
      "application/vnd.jupyter.widget-view+json": {
       "version_major": 2,
       "version_minor": 0,
       "model_id": "bdd4b2d59d50439f8198eea2c490179e"
      }
     },
     "metadata": {},
     "output_type": "display_data"
    },
    {
     "data": {
      "text/plain": "Generating validation split:   0%|          | 0/30000 [00:00<?, ? examples/s]",
      "application/vnd.jupyter.widget-view+json": {
       "version_major": 2,
       "version_minor": 0,
       "model_id": "2a98b7b243924a2ab7f8fa4be60c7ead"
      }
     },
     "metadata": {},
     "output_type": "display_data"
    },
    {
     "name": "stdout",
     "output_type": "stream",
     "text": [
      "Dataset hans downloaded and prepared to /home/david/.cache/huggingface/datasets/hans/plain_text/1.0.0/452e93cf5383f5ae39088254215b517d0da98ccaaf0af8f7ab04d8f23f67dbd9. Subsequent calls will reuse this data.\n"
     ]
    },
    {
     "data": {
      "text/plain": "  0%|          | 0/2 [00:00<?, ?it/s]",
      "application/vnd.jupyter.widget-view+json": {
       "version_major": 2,
       "version_minor": 0,
       "model_id": "9de2253b30d14aa2b71eeb2e2e1a7cce"
      }
     },
     "metadata": {},
     "output_type": "display_data"
    }
   ],
   "source": [
    "from datasets import load_dataset\n",
    "\n",
    "dataset = load_dataset(\"hans\")"
   ]
  },
  {
   "cell_type": "code",
   "execution_count": 13,
   "outputs": [
    {
     "name": "stdout",
     "output_type": "stream",
     "text": [
      "{'premise': 'The doctors supported the scientist .', 'hypothesis': 'The scientist supported the doctors .', 'label': 1, 'parse_premise': '(ROOT (S (NP (DT The) (NNS doctors)) (VP (VBD supported) (NP (DT the) (NN scientist))) (. .)))', 'parse_hypothesis': '(ROOT (S (NP (DT The) (NN scientist)) (VP (VBD supported) (NP (DT the) (NNS doctors))) (. .)))', 'binary_parse_premise': '( ( The doctors ) ( ( supported ( the scientist ) ) . ) )', 'binary_parse_hypothesis': '( ( The scientist ) ( ( supported ( the doctors ) ) . ) )', 'heuristic': 'lexical_overlap', 'subcase': 'ln_subject/object_swap', 'template': 'temp1'}\n",
      "\n",
      "\n",
      "{'premise': 'The athletes introduced the tourist .', 'hypothesis': 'The tourist introduced the athletes .', 'label': 1, 'parse_premise': '(ROOT (S (NP (DT The) (NNS athletes)) (VP (VBD introduced) (NP (DT the) (NN tourist))) (. .)))', 'parse_hypothesis': '(ROOT (S (NP (DT The) (NN tourist)) (VP (VBD introduced) (NP (DT the) (NNS athletes))) (. .)))', 'binary_parse_premise': '( ( The athletes ) ( ( introduced ( the tourist ) ) . ) )', 'binary_parse_hypothesis': '( ( The tourist ) ( ( introduced ( the athletes ) ) . ) )', 'heuristic': 'lexical_overlap', 'subcase': 'ln_subject/object_swap', 'template': 'temp1'}\n",
      "\n",
      "\n",
      "{'premise': 'The secretaries introduced the judges .', 'hypothesis': 'The judges introduced the secretaries .', 'label': 1, 'parse_premise': '(ROOT (S (NP (DT The) (NNS secretaries)) (VP (VBD introduced) (NP (DT the) (NNS judges))) (. .)))', 'parse_hypothesis': '(ROOT (S (NP (DT The) (NNS judges)) (VP (VBD introduced) (NP (DT the) (NNS secretaries))) (. .)))', 'binary_parse_premise': '( ( The secretaries ) ( ( introduced ( the judges ) ) . ) )', 'binary_parse_hypothesis': '( ( The judges ) ( ( introduced ( the secretaries ) ) . ) )', 'heuristic': 'lexical_overlap', 'subcase': 'ln_subject/object_swap', 'template': 'temp1'}\n",
      "\n",
      "\n",
      "{'premise': 'The doctor saw the athletes .', 'hypothesis': 'The athletes saw the doctor .', 'label': 1, 'parse_premise': '(ROOT (S (NP (DT The) (NN doctor)) (VP (VBD saw) (NP (DT the) (NNS athletes))) (. .)))', 'parse_hypothesis': '(ROOT (S (NP (DT The) (NNS athletes)) (VP (VBD saw) (NP (DT the) (NN doctor))) (. .)))', 'binary_parse_premise': '( ( The doctor ) ( ( saw ( the athletes ) ) . ) )', 'binary_parse_hypothesis': '( ( The athletes ) ( ( saw ( the doctor ) ) . ) )', 'heuristic': 'lexical_overlap', 'subcase': 'ln_subject/object_swap', 'template': 'temp1'}\n",
      "\n",
      "\n",
      "{'premise': 'The judge encouraged the athlete .', 'hypothesis': 'The athlete encouraged the judge .', 'label': 1, 'parse_premise': '(ROOT (S (NP (DT The) (NN judge)) (VP (VBD encouraged) (NP (DT the) (NN athlete))) (. .)))', 'parse_hypothesis': '(ROOT (S (NP (DT The) (NN athlete)) (VP (VBD encouraged) (NP (DT the) (NN judge))) (. .)))', 'binary_parse_premise': '( ( The judge ) ( ( encouraged ( the athlete ) ) . ) )', 'binary_parse_hypothesis': '( ( The athlete ) ( ( encouraged ( the judge ) ) . ) )', 'heuristic': 'lexical_overlap', 'subcase': 'ln_subject/object_swap', 'template': 'temp1'}\n",
      "\n",
      "\n"
     ]
    }
   ],
   "source": [
    "for i in range(5):\n",
    "    print(dataset['train'][i])\n",
    "    print('\\n')"
   ],
   "metadata": {
    "collapsed": false,
    "pycharm": {
     "name": "#%%\n"
    }
   }
  },
  {
   "cell_type": "code",
   "execution_count": 17,
   "outputs": [
    {
     "name": "stdout",
     "output_type": "stream",
     "text": [
      "# ::snt The judge encouraged the athlete .\n",
      "(e / encourage-01\n",
      "      :ARG0 (p / person\n",
      "            :ARG0-of (j / judge-01))\n",
      "      :ARG1 (a / athlete))\n",
      "# ::snt The athlete encouraged the judge .\n",
      "(e / encourage-01\n",
      "      :ARG0 (a / athlete)\n",
      "      :ARG1 (p / person\n",
      "            :ARG0-of (j / judge-01)))\n"
     ]
    }
   ],
   "source": [
    "\n",
    "\n",
    "graphs = stog.parse_sents([dataset['train'][i]['premise'], dataset['train'][i]['hypothesis']])\n",
    "\n",
    "for graph in graphs:\n",
    "    print(graph)"
   ],
   "metadata": {
    "collapsed": false,
    "pycharm": {
     "name": "#%%\n"
    }
   }
  },
  {
   "cell_type": "code",
   "execution_count": null,
   "outputs": [],
   "source": [],
   "metadata": {
    "collapsed": false,
    "pycharm": {
     "name": "#%%\n"
    }
   }
  }
 ],
 "metadata": {
  "kernelspec": {
   "display_name": "Python 3 (ipykernel)",
   "language": "python",
   "name": "python3"
  },
  "language_info": {
   "codemirror_mode": {
    "name": "ipython",
    "version": 3
   },
   "file_extension": ".py",
   "mimetype": "text/x-python",
   "name": "python",
   "nbconvert_exporter": "python",
   "pygments_lexer": "ipython3",
   "version": "3.9.12"
  }
 },
 "nbformat": 4,
 "nbformat_minor": 5
}