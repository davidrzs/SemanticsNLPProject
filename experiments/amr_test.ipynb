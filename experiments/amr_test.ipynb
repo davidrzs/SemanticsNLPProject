{
 "cells": [
  {
   "cell_type": "code",
   "execution_count": 1,
   "id": "f17384bb",
   "metadata": {
    "pycharm": {
     "name": "#%%\n"
    }
   },
   "outputs": [
    {
     "name": "stdout",
     "output_type": "stream",
     "text": [
      "# ::snt Japan's Defence Minister Nobuo Kishi said first missile flew about 300km (186 miles) with a maximum altitude of around 550 km, while the second, reaching as high as 50 km, travelled around 750 km.e.\n",
      "(s / say-01\n",
      "      :ARG0 (p / person\n",
      "            :name (n / name\n",
      "                  :op1 \"Nobuo\"\n",
      "                  :op2 \"Kishi\")\n",
      "            :ARG0-of (h / have-org-role-91\n",
      "                  :ARG1 (c / country\n",
      "                        :name (n2 / name\n",
      "                              :op1 \"Japan\"))\n",
      "                  :ARG2 (m / minister\n",
      "                        :topic (d / defend-01))))\n",
      "      :ARG1 (c2 / contrast-01\n",
      "            :ARG1 (f / fly-01\n",
      "                  :ARG1 (m2 / missile\n",
      "                        :ord (o / ordinal-entity\n",
      "                              :value 1)\n",
      "                        :ARG0-of (h2 / have-03\n",
      "                              :ARG1 (a / altitude\n",
      "                                    :mod (m3 / maximum)\n",
      "                                    :quant (a2 / around\n",
      "                                          :op1 (d2 / distance-quantity\n",
      "                                                :quant 550\n",
      "                                                :unit (k / kilometer))))))\n",
      "                  :ARG2 (t / travel-01\n",
      "                        :ARG0 (m4 / missile\n",
      "                              :ord (o2 / ordinal-entity\n",
      "                                    :value 2)\n",
      "                              :ARG1-of (r / reach-01\n",
      "                                    :ARG2 (h3 / high-02\n",
      "                                          :ARG2-of (h4 / have-degree-91\n",
      "                                                :ARG1 m4\n",
      "                                                :ARG3 (e / equal)\n",
      "                                                :ARG4 (d3 / distance-quantity\n",
      "                                                      :quant 50\n",
      "                                                      :unit (k2 / kilometer)))))\n",
      "                              :ARG1 (a3 / around\n",
      "                                    :op1 (d4 / distance-quantity\n",
      "                                          :quant 750\n",
      "                                          :unit (k3 / kilometer))))))))\n",
      "\n",
      "\n",
      "\n"
     ]
    }
   ],
   "source": [
    "import amrlib\n",
    "stog = amrlib.load_stog_model('/home/david/tmp/model_parse_xfm_bart_base-v0_1_0')\n",
    "graphs = stog.parse_sents([\"Japan's Defence Minister Nobuo Kishi said first missile flew about 300km (186 miles) with a maximum altitude of around 550 km, while the second, reaching as high as 50 km, travelled around 750 km.e.\"])\n",
    "for graph in graphs:\n",
    "    print(graph)\n",
    "    print('\\n\\n')\n"
   ]
  },
  {
   "cell_type": "code",
   "execution_count": 17,
   "id": "0c9062b8",
   "metadata": {
    "pycharm": {
     "name": "#%%\n"
    }
   },
   "outputs": [
    {
     "name": "stdout",
     "output_type": "stream",
     "text": [
      "{'snt': \"Japan's Defence Minister Nobuo Kishi said first missile flew about 300km (186 miles) with a maximum altitude of around 550 km, while the second, reaching as high as 50 km, travelled around 750 km.e.\"} \n",
      "\n",
      "\n",
      "[('s', ':instance', 'say-01'), ('s', ':ARG0', 'p'), ('p', ':instance', 'person'), ('p', ':name', 'n'), ('n', ':instance', 'name'), ('n', ':op1', '\"Nobuo\"'), ('n', ':op2', '\"Kishi\"'), ('h', ':ARG0', 'p'), ('h', ':instance', 'have-org-role-91'), ('h', ':ARG1', 'c'), ('c', ':instance', 'country'), ('c', ':name', 'n2'), ('n2', ':instance', 'name'), ('n2', ':op1', '\"Japan\"'), ('h', ':ARG2', 'm'), ('m', ':instance', 'minister'), ('m', ':topic', 'd'), ('d', ':instance', 'defend-01'), ('s', ':ARG1', 'c2'), ('c2', ':instance', 'contrast-01'), ('c2', ':ARG1', 'f'), ('f', ':instance', 'fly-01'), ('f', ':ARG1', 'm2'), ('m2', ':instance', 'missile'), ('m2', ':ord', 'o'), ('o', ':instance', 'ordinal-entity'), ('o', ':value', '1'), ('h2', ':ARG0', 'm2'), ('h2', ':instance', 'have-03'), ('h2', ':ARG1', 'a'), ('a', ':instance', 'altitude'), ('a', ':mod', 'm3'), ('m3', ':instance', 'maximum'), ('a', ':quant', 'a2'), ('a2', ':instance', 'around'), ('a2', ':op1', 'd2'), ('d2', ':instance', 'distance-quantity'), ('d2', ':quant', '550'), ('d2', ':unit', 'k'), ('k', ':instance', 'kilometer'), ('f', ':ARG2', 't'), ('t', ':instance', 'travel-01'), ('t', ':ARG0', 'm4'), ('m4', ':instance', 'missile'), ('m4', ':ord', 'o2'), ('o2', ':instance', 'ordinal-entity'), ('o2', ':value', '2'), ('r', ':ARG1', 'm4'), ('r', ':instance', 'reach-01'), ('r', ':ARG2', 'h3'), ('h3', ':instance', 'high-02'), ('h4', ':ARG2', 'h3'), ('h4', ':instance', 'have-degree-91'), ('h4', ':ARG1', 'm4'), ('h4', ':ARG3', 'e'), ('e', ':instance', 'equal'), ('h4', ':ARG4', 'd3'), ('d3', ':instance', 'distance-quantity'), ('d3', ':quant', '50'), ('d3', ':unit', 'k2'), ('k2', ':instance', 'kilometer'), ('m4', ':ARG1', 'a3'), ('a3', ':instance', 'around'), ('a3', ':op1', 'd4'), ('d4', ':instance', 'distance-quantity'), ('d4', ':quant', '750'), ('d4', ':unit', 'k3'), ('k3', ':instance', 'kilometer')] \n",
      "\n",
      "\n",
      "[Edge(source='s', role=':ARG0', target='p'), Edge(source='p', role=':name', target='n'), Edge(source='h', role=':ARG0', target='p'), Edge(source='h', role=':ARG1', target='c'), Edge(source='c', role=':name', target='n2'), Edge(source='h', role=':ARG2', target='m'), Edge(source='m', role=':topic', target='d'), Edge(source='s', role=':ARG1', target='c2'), Edge(source='c2', role=':ARG1', target='f'), Edge(source='f', role=':ARG1', target='m2'), Edge(source='m2', role=':ord', target='o'), Edge(source='h2', role=':ARG0', target='m2'), Edge(source='h2', role=':ARG1', target='a'), Edge(source='a', role=':mod', target='m3'), Edge(source='a', role=':quant', target='a2'), Edge(source='a2', role=':op1', target='d2'), Edge(source='d2', role=':unit', target='k'), Edge(source='f', role=':ARG2', target='t'), Edge(source='t', role=':ARG0', target='m4'), Edge(source='m4', role=':ord', target='o2'), Edge(source='r', role=':ARG1', target='m4'), Edge(source='r', role=':ARG2', target='h3'), Edge(source='h4', role=':ARG2', target='h3'), Edge(source='h4', role=':ARG1', target='m4'), Edge(source='h4', role=':ARG3', target='e'), Edge(source='h4', role=':ARG4', target='d3'), Edge(source='d3', role=':unit', target='k2'), Edge(source='m4', role=':ARG1', target='a3'), Edge(source='a3', role=':op1', target='d4'), Edge(source='d4', role=':unit', target='k3')] \n",
      "\n",
      "\n",
      "[Attribute(source='n', role=':op1', target='\"Nobuo\"'), Attribute(source='n', role=':op2', target='\"Kishi\"'), Attribute(source='n2', role=':op1', target='\"Japan\"'), Attribute(source='o', role=':value', target='1'), Attribute(source='d2', role=':quant', target='550'), Attribute(source='o2', role=':value', target='2'), Attribute(source='d3', role=':quant', target='50'), Attribute(source='d4', role=':quant', target='750')] \n",
      "\n",
      "\n"
     ]
    }
   ],
   "source": [
    "import penman\n",
    "\n",
    "a = penman.decode(graphs[0])\n",
    "\n",
    "print(a.metadata,'\\n\\n')\n",
    "\n",
    "print(a.triples, '\\n\\n')\n",
    "\n",
    "print(a.edges(), '\\n\\n')\n",
    "\n",
    "print(a.attributes(), '\\n\\n')\n",
    "\n",
    "\n"
   ]
  },
  {
   "cell_type": "code",
   "execution_count": 10,
   "id": "663ec4e7",
   "metadata": {
    "pycharm": {
     "name": "#%%\n"
    }
   },
   "outputs": [],
   "source": [
    "import dgl\n",
    "import torch"
   ]
  },
  {
   "cell_type": "code",
   "execution_count": 20,
   "id": "8e994795",
   "metadata": {
    "pycharm": {
     "name": "#%%\n"
    }
   },
   "outputs": [
    {
     "name": "stdout",
     "output_type": "stream",
     "text": [
      "{'\"Japan\"', 'f', 'p', 'a2', 'o2', 'n', 's', '\"Kishi\"', 'k3', 'm3', 'n2', 't', 'h4', 'a', 'e', 'o', 'h2', '550', '\"Nobuo\"', '50', '1', 'c', 'r', 'd4', 'k2', 'c2', 'm2', 'h', '750', 'k', 'a3', '2', 'd2', 'd', 'd3', 'm4', 'h3', 'm'}\n",
      "{('v', ':ARG0', 'v'), ('v', ':ARG3', 'v'), ('v', ':name', 'v'), ('v', ':ARG4', 'v'), ('v', ':op2', 'v'), ('v', ':unit', 'v'), ('v', ':value', 'v'), ('v', ':quant', 'v'), ('v', ':op1', 'v'), ('v', ':topic', 'v'), ('v', ':mod', 'v'), ('v', ':ARG1', 'v'), ('v', ':ord', 'v'), ('v', ':ARG2', 'v')}\n"
     ]
    }
   ],
   "source": [
    "nodes = set()\n",
    "edge_types = set()\n",
    "\n",
    "\n",
    "for edge in a.edges():\n",
    "    source, role, target = edge.source, edge.role, edge.target\n",
    "    nodes.add(source)\n",
    "    nodes.add(target)\n",
    "    # v stands for vertex - not sure if we need multiple vertices in the future.\n",
    "    edge_types.add(('v',role,'v'))\n",
    "\n",
    "for attribute in a.attributes():\n",
    "    source, role, target = attribute.source, attribute.role, attribute.target\n",
    "    nodes.add(source)\n",
    "    nodes.add(target)\n",
    "    edge_types.add(('v',role,'v'))\n",
    "\n",
    "print(nodes)\n",
    "print(edge_types)\n",
    "\n"
   ]
  },
  {
   "cell_type": "code",
   "execution_count": 42,
   "id": "f86069ab",
   "metadata": {
    "pycharm": {
     "name": "#%%\n"
    }
   },
   "outputs": [
    {
     "name": "stdout",
     "output_type": "stream",
     "text": [
      "{'\"Japan\"': 0, 'f': 1, 'p': 2, 'a2': 3, 'o2': 4, 'n': 5, 's': 6, '\"Kishi\"': 7, 'k3': 8, 'm3': 9, 'n2': 10, 't': 11, 'h4': 12, 'a': 13, 'e': 14, 'o': 15, 'h2': 16, '550': 17, '\"Nobuo\"': 18, '50': 19, '1': 20, 'c': 21, 'r': 22, 'd4': 23, 'k2': 24, 'c2': 25, 'm2': 26, 'h': 27, '750': 28, 'k': 29, 'a3': 30, '2': 31, 'd2': 32, 'd': 33, 'd3': 34, 'm4': 35, 'h3': 36, 'm': 37}\n",
      "\n",
      "\n",
      " {('v', ':ARG0', 'v'): (tensor([ 6, 27, 16, 11]), tensor([ 2,  2, 26, 35])), ('v', ':ARG3', 'v'): (tensor([12]), tensor([14])), ('v', ':name', 'v'): (tensor([ 2, 21]), tensor([ 5, 10])), ('v', ':ARG4', 'v'): (tensor([12]), tensor([34])), ('v', ':op2', 'v'): (tensor([5]), tensor([7])), ('v', ':unit', 'v'): (tensor([32, 34, 23]), tensor([29, 24,  8])), ('v', ':value', 'v'): (tensor([15,  4]), tensor([20, 31])), ('v', ':quant', 'v'): (tensor([13, 32, 34, 23]), tensor([ 3, 17, 19, 28])), ('v', ':op1', 'v'): (tensor([ 3, 30,  5, 10]), tensor([32, 23, 18,  0])), ('v', ':topic', 'v'): (tensor([37]), tensor([33])), ('v', ':mod', 'v'): (tensor([13]), tensor([9])), ('v', ':ARG1', 'v'): (tensor([27,  6, 25,  1, 16, 22, 12, 35]), tensor([21, 25,  1, 26, 13, 35, 35, 30])), ('v', ':ord', 'v'): (tensor([26, 35]), tensor([15,  4])), ('v', ':ARG2', 'v'): (tensor([27,  1, 22, 12]), tensor([37, 11, 36, 36]))} \n",
      "\n",
      "\n",
      "Graph(num_nodes={'v': 38},\n",
      "      num_edges={('v', ':ARG0', 'v'): 4, ('v', ':ARG1', 'v'): 8, ('v', ':ARG2', 'v'): 4, ('v', ':ARG3', 'v'): 1, ('v', ':ARG4', 'v'): 1, ('v', ':mod', 'v'): 1, ('v', ':name', 'v'): 2, ('v', ':op1', 'v'): 4, ('v', ':op2', 'v'): 1, ('v', ':ord', 'v'): 2, ('v', ':quant', 'v'): 4, ('v', ':topic', 'v'): 1, ('v', ':unit', 'v'): 3, ('v', ':value', 'v'): 2},\n",
      "      metagraph=[('v', 'v', ':ARG0'), ('v', 'v', ':ARG1'), ('v', 'v', ':ARG2'), ('v', 'v', ':ARG3'), ('v', 'v', ':ARG4'), ('v', 'v', ':mod'), ('v', 'v', ':name'), ('v', 'v', ':op1'), ('v', 'v', ':op2'), ('v', 'v', ':ord'), ('v', 'v', ':quant'), ('v', 'v', ':topic'), ('v', 'v', ':unit'), ('v', 'v', ':value')])\n"
     ]
    }
   ],
   "source": [
    "edge_collection = {}\n",
    "\n",
    "for edge_type in edge_types:\n",
    "    # v1, t, v2  = edge_type\n",
    "    edge_collection[edge_type] = []\n",
    "\n",
    "\n",
    "node_to_index = dict(list(map(lambda j : (j[1],j[0]), enumerate(list(nodes)))))\n",
    "\n",
    "print(node_to_index)\n",
    "\n",
    "for edge in a.edges():\n",
    "    source, role, target = edge.source, edge.role, edge.target\n",
    "    edge_collection[('v',role,'v')].append((node_to_index[source], node_to_index[target]))\n",
    "\n",
    "for attribute in a.attributes():\n",
    "    source, role, target = attribute.source, attribute.role, attribute.target\n",
    "    edge_collection[('v',role,'v')].append((node_to_index[source], node_to_index[target]))\n",
    "\n",
    "dgl_graph = {}\n",
    "\n",
    "for edge_type in edge_collection:\n",
    "    u, v = list(zip(*edge_collection[edge_type]))\n",
    "    u, v = list(u), list(v)\n",
    "    dgl_graph[edge_type] = torch.tensor(u), torch.tensor(v)\n",
    "\n",
    "\n",
    "print('\\n\\n', dgl_graph, '\\n\\n')\n",
    "\n",
    "g = dgl.heterograph(dgl_graph)\n",
    "\n",
    "print(g)\n"
   ]
  },
  {
   "cell_type": "code",
   "execution_count": 41,
   "id": "1092b7f7",
   "metadata": {
    "pycharm": {
     "name": "#%%\n"
    }
   },
   "outputs": [],
   "source": []
  },
  {
   "cell_type": "code",
   "execution_count": null,
   "id": "77e38ff0",
   "metadata": {
    "pycharm": {
     "name": "#%%\n"
    }
   },
   "outputs": [],
   "source": [
    "\n",
    "i = 100\n",
    "\n",
    "graphs = stog.parse_sents([dataset['train'][i]['premise'], dataset['train'][i]['hypothesis']])\n",
    "\n",
    "for graph in graphs:\n",
    "    print(graph)"
   ]
  },
  {
   "cell_type": "code",
   "execution_count": null,
   "id": "935ccd2c",
   "metadata": {
    "pycharm": {
     "name": "#%%\n"
    }
   },
   "outputs": [],
   "source": [
    "from datasets import load_dataset\n",
    "\n",
    "dataset = load_dataset(\"hans\")"
   ]
  },
  {
   "cell_type": "code",
   "execution_count": 9,
   "id": "29456477",
   "metadata": {
    "pycharm": {
     "name": "#%%\n"
    }
   },
   "outputs": [
    {
     "name": "stderr",
     "output_type": "stream",
     "text": [
      "Reusing dataset hans (/home/david/.cache/huggingface/datasets/hans/plain_text/1.0.0/452e93cf5383f5ae39088254215b517d0da98ccaaf0af8f7ab04d8f23f67dbd9)\n"
     ]
    },
    {
     "data": {
      "application/vnd.jupyter.widget-view+json": {
       "model_id": "88c1b1ee328b4d08a60e08877c67ac4a",
       "version_major": 2,
       "version_minor": 0
      },
      "text/plain": [
       "  0%|          | 0/2 [00:00<?, ?it/s]"
      ]
     },
     "metadata": {},
     "output_type": "display_data"
    }
   ],
   "source": [
    "from datasets import load_dataset\n",
    "\n",
    "dataset = load_dataset(\"hans\")"
   ]
  },
  {
   "cell_type": "code",
   "execution_count": null,
   "id": "550c4907",
   "metadata": {
    "pycharm": {
     "name": "#%%\n"
    }
   },
   "outputs": [],
   "source": []
  }
 ],
 "metadata": {
  "kernelspec": {
   "display_name": "Python 3 (ipykernel)",
   "language": "python",
   "name": "python3"
  },
  "language_info": {
   "codemirror_mode": {
    "name": "ipython",
    "version": 3
   },
   "file_extension": ".py",
   "mimetype": "text/x-python",
   "name": "python",
   "nbconvert_exporter": "python",
   "pygments_lexer": "ipython3",
   "version": "3.9.13"
  }
 },
 "nbformat": 4,
 "nbformat_minor": 5
}
